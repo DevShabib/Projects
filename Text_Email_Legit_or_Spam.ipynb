{
  "cells": [
    {
      "cell_type": "code",
      "execution_count": null,
      "id": "7029779a",
      "metadata": {
        "id": "7029779a"
      },
      "outputs": [],
      "source": [
        "# Import necessary libraries\n",
        "import pandas as pd\n",
        "from sklearn.model_selection import train_test_split\n",
        "from sklearn.pipeline import Pipeline\n",
        "from sklearn.feature_extraction.text import TfidfVectorizer\n",
        "from sklearn.naive_bayes import ComplementNB\n",
        "from sklearn.metrics import accuracy_score, classification_report"
      ]
    },
    {
      "cell_type": "code",
      "execution_count": null,
      "id": "2059fa01",
      "metadata": {
        "id": "2059fa01"
      },
      "outputs": [],
      "source": [
        "# Read the dataset\n",
        "df = pd.read_csv(\"C:\\\\Users\\\\iisha\\\\Downloads\\\\email_spam.csv\")"
      ]
    },
    {
      "cell_type": "code",
      "execution_count": null,
      "id": "877d75dd",
      "metadata": {
        "id": "877d75dd"
      },
      "outputs": [],
      "source": [
        "# setting up regex to clean the dataset\n",
        "import re\n",
        "def preprocess(text):\n",
        "    text = re.sub(r'[^\\w\\s\\'$]', ' ', text)\n",
        "    text = re.sub(r'[ \\n]+', ' ', text)\n",
        "    return text.strip().lower()"
      ]
    },
    {
      "cell_type": "code",
      "execution_count": null,
      "id": "29bd9e7e",
      "metadata": {
        "id": "29bd9e7e"
      },
      "outputs": [],
      "source": [
        "# applying regex\n",
        "df.text = df.text.map(preprocess)\n",
        "df.title = df.title.map(preprocess)"
      ]
    },
    {
      "cell_type": "code",
      "execution_count": null,
      "id": "a5e9950f",
      "metadata": {
        "scrolled": true,
        "id": "a5e9950f",
        "outputId": "71d0648f-0267-4f52-808d-015f13ebac13"
      },
      "outputs": [
        {
          "data": {
            "text/html": [
              "<div>\n",
              "<style scoped>\n",
              "    .dataframe tbody tr th:only-of-type {\n",
              "        vertical-align: middle;\n",
              "    }\n",
              "\n",
              "    .dataframe tbody tr th {\n",
              "        vertical-align: top;\n",
              "    }\n",
              "\n",
              "    .dataframe thead th {\n",
              "        text-align: right;\n",
              "    }\n",
              "</style>\n",
              "<table border=\"1\" class=\"dataframe\">\n",
              "  <thead>\n",
              "    <tr style=\"text-align: right;\">\n",
              "      <th></th>\n",
              "      <th>title</th>\n",
              "      <th>text</th>\n",
              "      <th>type</th>\n",
              "      <th>full_text</th>\n",
              "    </tr>\n",
              "  </thead>\n",
              "  <tbody>\n",
              "    <tr>\n",
              "      <th>0</th>\n",
              "      <td>the secrets to success</td>\n",
              "      <td>hi james have you claim your complimentary gif...</td>\n",
              "      <td>spam</td>\n",
              "      <td>the secrets to success hi james have you claim...</td>\n",
              "    </tr>\n",
              "    <tr>\n",
              "      <th>1</th>\n",
              "      <td>you earned 500 gcloot points</td>\n",
              "      <td>alt_text congratulations you just earned 500 y...</td>\n",
              "      <td>not spam</td>\n",
              "      <td>you earned 500 gcloot points alt_text congratu...</td>\n",
              "    </tr>\n",
              "    <tr>\n",
              "      <th>2</th>\n",
              "      <td>your github launch code</td>\n",
              "      <td>here's your github launch code mortyj420 an oc...</td>\n",
              "      <td>not spam</td>\n",
              "      <td>your github launch code here's your github lau...</td>\n",
              "    </tr>\n",
              "    <tr>\n",
              "      <th>3</th>\n",
              "      <td>the virtual reward center re clarifications</td>\n",
              "      <td>hello thank you for contacting the virtual rew...</td>\n",
              "      <td>not spam</td>\n",
              "      <td>the virtual reward center re clarifications he...</td>\n",
              "    </tr>\n",
              "    <tr>\n",
              "      <th>4</th>\n",
              "      <td>10 1 mlb expert inside plus everything you nee...</td>\n",
              "      <td>hey prachanda rawal today's newsletter is jam ...</td>\n",
              "      <td>spam</td>\n",
              "      <td>10 1 mlb expert inside plus everything you nee...</td>\n",
              "    </tr>\n",
              "  </tbody>\n",
              "</table>\n",
              "</div>"
            ],
            "text/plain": [
              "                                               title  \\\n",
              "0                             the secrets to success   \n",
              "1                       you earned 500 gcloot points   \n",
              "2                            your github launch code   \n",
              "3        the virtual reward center re clarifications   \n",
              "4  10 1 mlb expert inside plus everything you nee...   \n",
              "\n",
              "                                                text      type  \\\n",
              "0  hi james have you claim your complimentary gif...      spam   \n",
              "1  alt_text congratulations you just earned 500 y...  not spam   \n",
              "2  here's your github launch code mortyj420 an oc...  not spam   \n",
              "3  hello thank you for contacting the virtual rew...  not spam   \n",
              "4  hey prachanda rawal today's newsletter is jam ...      spam   \n",
              "\n",
              "                                           full_text  \n",
              "0  the secrets to success hi james have you claim...  \n",
              "1  you earned 500 gcloot points alt_text congratu...  \n",
              "2  your github launch code here's your github lau...  \n",
              "3  the virtual reward center re clarifications he...  \n",
              "4  10 1 mlb expert inside plus everything you nee...  "
            ]
          },
          "execution_count": 5,
          "metadata": {},
          "output_type": "execute_result"
        }
      ],
      "source": [
        "df['full_text'] = df['title']+\" \"+df['text']\n",
        "df.head()"
      ]
    },
    {
      "cell_type": "code",
      "execution_count": null,
      "id": "e07e22a0",
      "metadata": {
        "id": "e07e22a0"
      },
      "outputs": [],
      "source": [
        "x = df['full_text']\n",
        "y = df['type']"
      ]
    },
    {
      "cell_type": "code",
      "execution_count": null,
      "id": "017c3016",
      "metadata": {
        "id": "017c3016",
        "outputId": "cbcb8d70-a4e1-47b9-bc85-b064a9a3c767"
      },
      "outputs": [
        {
          "data": {
            "text/plain": [
              "'alt_text congratulations you just earned 500 you completed the following offer view points history to stop recieving notifications when you earn points please visit your profile and click preferences to change your setting room 1203 12th floor tower 3 china hong kong city 33 canton road tsim sha tsui kowloon hong kong unsubscribe'"
            ]
          },
          "execution_count": 7,
          "metadata": {},
          "output_type": "execute_result"
        }
      ],
      "source": [
        "df.text[1]"
      ]
    },
    {
      "cell_type": "code",
      "execution_count": null,
      "id": "4e1d7081",
      "metadata": {
        "id": "4e1d7081"
      },
      "outputs": [],
      "source": [
        "# creating a pipeline to train the model using TF-IDF and Complement Naive Bayes Classifier\n",
        "pipeCNB = Pipeline([('tfidf', TfidfVectorizer()),('clf', ComplementNB())])"
      ]
    },
    {
      "cell_type": "code",
      "execution_count": null,
      "id": "b78b57b5",
      "metadata": {
        "id": "b78b57b5"
      },
      "outputs": [],
      "source": [
        "x_train, x_test, y_train, y_test = train_test_split(x, y, test_size= 0.2, random_state= 44)"
      ]
    },
    {
      "cell_type": "code",
      "execution_count": null,
      "id": "8c5c98c5",
      "metadata": {
        "id": "8c5c98c5",
        "outputId": "b7722eef-262f-4059-ca25-bc9334df56d8"
      },
      "outputs": [
        {
          "name": "stdout",
          "output_type": "stream",
          "text": [
            "CNB: 1.0\n"
          ]
        }
      ],
      "source": [
        "# fitting the model\n",
        "pipeCNB.fit(x_train, y_train)\n",
        "predictedCNB = pipeCNB.predict(y_test)\n",
        "print(f'CNB: {accuracy_score(y_test, predictedCNB)}')"
      ]
    },
    {
      "cell_type": "code",
      "execution_count": null,
      "id": "ebd6bde7",
      "metadata": {
        "id": "ebd6bde7",
        "outputId": "b8e9ef69-5646-4aab-ee23-56672d13474c"
      },
      "outputs": [
        {
          "name": "stdout",
          "output_type": "stream",
          "text": [
            "              precision    recall  f1-score   support\n",
            "\n",
            "    not spam       1.00      1.00      1.00        16\n",
            "        spam       1.00      1.00      1.00         1\n",
            "\n",
            "    accuracy                           1.00        17\n",
            "   macro avg       1.00      1.00      1.00        17\n",
            "weighted avg       1.00      1.00      1.00        17\n",
            "\n"
          ]
        }
      ],
      "source": [
        "print(classification_report(y_test, predictedCNB))"
      ]
    }
  ],
  "metadata": {
    "kernelspec": {
      "display_name": "Python 3 (ipykernel)",
      "language": "python",
      "name": "python3"
    },
    "language_info": {
      "codemirror_mode": {
        "name": "ipython",
        "version": 3
      },
      "file_extension": ".py",
      "mimetype": "text/x-python",
      "name": "python",
      "nbconvert_exporter": "python",
      "pygments_lexer": "ipython3",
      "version": "3.11.4"
    },
    "varInspector": {
      "cols": {
        "lenName": 16,
        "lenType": 16,
        "lenVar": 40
      },
      "kernels_config": {
        "python": {
          "delete_cmd_postfix": "",
          "delete_cmd_prefix": "del ",
          "library": "var_list.py",
          "varRefreshCmd": "print(var_dic_list())"
        },
        "r": {
          "delete_cmd_postfix": ") ",
          "delete_cmd_prefix": "rm(",
          "library": "var_list.r",
          "varRefreshCmd": "cat(var_dic_list()) "
        }
      },
      "types_to_exclude": [
        "module",
        "function",
        "builtin_function_or_method",
        "instance",
        "_Feature"
      ],
      "window_display": false
    },
    "colab": {
      "provenance": []
    }
  },
  "nbformat": 4,
  "nbformat_minor": 5
}